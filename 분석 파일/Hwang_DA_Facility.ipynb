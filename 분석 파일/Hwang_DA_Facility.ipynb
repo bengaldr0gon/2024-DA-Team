{
 "cells": [
  {
   "cell_type": "markdown",
   "metadata": {},
   "source": []
  },
  {
   "cell_type": "markdown",
   "metadata": {},
   "source": [
    "# 연도 별 국내 복지시설 현황"
   ]
  },
  {
   "cell_type": "markdown",
   "metadata": {},
   "source": [
    "오류설정 및 한글 폰트 설정"
   ]
  },
  {
   "cell_type": "code",
   "execution_count": 1,
   "metadata": {},
   "outputs": [],
   "source": [
    "import csv\n",
    "import matplotlib.pyplot as plt\n",
    "import warnings\n",
    "warnings.filterwarnings('ignore')\n",
    "\n",
    "plt.rcParams['font.family'] = 'Malgun Gothic' # 한글깨짐 설정\n",
    "plt.rcParams['axes.unicode_minus'] = False"
   ]
  },
  {
   "cell_type": "markdown",
   "metadata": {},
   "source": [
    "csv 불러오기"
   ]
  },
  {
   "cell_type": "code",
   "execution_count": 2,
   "metadata": {},
   "outputs": [
    {
     "name": "stdout",
     "output_type": "stream",
     "text": [
      "['행정구역별(1)', '2010', '2010', '2010', '2010', '2011', '2011', '2011', '2011', '2012', '2012', '2012', '2012', '2013', '2013', '2013', '2013', '2014', '2014', '2014', '2014', '2015', '2015', '2015', '2015', '2016', '2016', '2016', '2016', '2017', '2017', '2017', '2017', '2018', '2018', '2018', '2018', '2019', '2019', '2019', '2019']\n",
      "['행정구역별(1)', '시설수 (개)', '입소자 (명)', '퇴소자 (명)', '연말현재 수용자 (명)', '시설수 (개)', '입소자 (명)', '퇴소자 (명)', '연말현재 수용자 (명)', '시설수 (개)', '입소자 (명)', '퇴소자 (명)', '연말현재 수용자 (명)', '시설수 (개)', '입소자 (명)', '퇴소자 (명)', '연말현재 수용자 (명)', '시설수 (개)', '입소자 (명)', '퇴소자 (명)', '연말현재 수용자 (명)', '시설수 (개)', '입소자 (명)', '퇴소자 (명)', '연말현재 수용자 (명)', '시설수 (개)', '입소자 (명)', '퇴소자 (명)', '연말현재 수용자 (명)', '시설수 (개)', '입소자 (명)', '퇴소자 (명)', '연말현재 수용자 (명)', '시설수 (개)', '입소자 (명)', '퇴소자 (명)', '연말현재 수용자 (명)', '시설수 (개)', '입소자 (명)', '퇴소자 (명)', '연말현재 수용자 (명)']\n",
      "['전국', '280', '6188', '6655', '17119', '280', '5870', '6478', '16523', '281', '5427', '6034', '15916', '281', '4401', '5048', '15239', '278', '4822', '5431', '14630', '281', '4331', '4960', '14001', '281', '4462', '4774', '13689', '280', '5543', '6325', '12789', '279', '3707', '4365', '12193', '281', '3776', '4304', '11665']\n",
      "['서울특별시', '45', '2995', '3085', '3153', '47', '2994', '3075', '3072', '47', '2342', '2440', '2990', '47', '1925', '1822', '3063', '47', '2205', '2209', '3059', '49', '1982', '2039', '3002', '49', '1807', '1834', '2975', '49', '1639', '1891', '2737', '49', '1291', '1451', '2577', '49', '1246', '1482', '2341']\n",
      "['부산광역시', '22', '325', '394', '1963', '22', '332', '365', '1930', '22', '335', '416', '1849', '22', '152', '315', '1684', '21', '140', '333', '1491', '21', '148', '287', '1352', '21', '104', '214', '1242', '21', '170', '306', '1106', '20', '182', '295', '992', '21', '171', '232', '931']\n",
      "['대구광역시', '22', '155', '216', '924', '22', '166', '194', '896', '22', '122', '160', '858', '22', '102', '172', '788', '22', '136', '149', '775', '23', '165', '176', '764', '23', '207', '212', '759', '23', '270', '277', '757', '23', '197', '225', '729', '23', '211', '243', '697']\n",
      "['인천광역시', '11', '193', '209', '707', '11', '216', '230', '693', '11', '209', '228', '674', '10', '107', '140', '642', '10', '179', '220', '601', '10', '172', '203', '570', '10', '210', '209', '571', '10', '186', '223', '531', '10', '131', '146', '516', '10', '201', '185', '532']\n",
      "['광주광역시', '11', '165', '183', '747', '11', '139', '194', '694', '11', '126', '162', '663', '12', '120', '120', '663', '12', '155', '157', '661', '12', '91', '144', '608', '12', '141', '153', '596', '12', '175', '210', '563', '12', '99', '133', '529', '12', '92', '114', '507']\n",
      "['대전광역시', '13', '351', '360', '653', '14', '377', '424', '618', '14', '403', '421', '600', '14', '379', '385', '594', '14', '309', '329', '574', '14', '302', '352', '524', '14', '239', '236', '527', '14', '363', '375', '512', '14', '282', '303', '493', '14', '272', '296', '469']\n",
      "['울산광역시', '1', '22', '18', '122', '1', '14', '31', '105', '1', '20', '21', '104', '1', '24', '19', '109', '1', '36', '28', '117', '1', '30', '20', '127', '1', '40', '46', '121', '1', '69', '56', '127', '1', '17', '29', '115', '1', '29', '27', '117']\n",
      "['세종특별자치시', '-', '-', '-', '-', '-', '-', '-', '-', '1', '4', '9', '47', '1', '3', '3', '47', '1', '5', '10', '42', '1', '9', '9', '42', '1', '6', '11', '37', '1', '5', '18', '27', '1', '6', '6', '27', '1', '9', '11', '25']\n",
      "['경기도', '32', '904', '889', '2030', '30', '603', '747', '1886', '31', '840', '885', '1836', '30', '678', '839', '1671', '29', '689', '773', '1587', '29', '619', '701', '1505', '29', '624', '672', '1457', '28', '1021', '1178', '1252', '28', '550', '655', '1212', '28', '605', '641', '1176']\n",
      "['강원도', '10', '83', '75', '525', '10', '47', '110', '462', '10', '45', '83', '424', '10', '61', '80', '405', '10', '69', '114', '360', '10', '121', '127', '354', '10', '138', '125', '367', '10', '163', '203', '334', '10', '104', '125', '312', '11', '104', '98', '318']\n",
      "['충청북도', '12', '133', '164', '740', '13', '151', '160', '731', '13', '119', '156', '694', '13', '136', '187', '647', '13', '179', '202', '624', '13', '143', '147', '620', '13', '120', '163', '577', '13', '226', '231', '549', '13', '114', '138', '528', '13', '140', '150', '518']\n",
      "['충청남도', '15', '81', '136', '794', '15', '98', '107', '785', '14', '94', '117', '702', '14', '91', '121', '673', '14', '115', '165', '623', '14', '122', '109', '636', '14', '129', '130', '635', '14', '166', '145', '634', '14', '98', '111', '619', '14', '85', '114', '590']\n",
      "['전라북도', '16', '154', '193', '909', '16', '155', '189', '875', '16', '193', '213', '855', '16', '193', '242', '806', '16', '159', '180', '785', '16', '166', '215', '736', '16', '247', '229', '754', '16', '345', '398', '696', '16', '251', '264', '684', '16', '200', '241', '643']\n",
      "['전라남도', '24', '307', '384', '1364', '23', '293', '316', '1339', '23', '294', '340', '1285', '23', '194', '258', '1221', '23', '178', '205', '1194', '23', '162', '190', '1166', '23', '206', '238', '1134', '23', '303', '335', '1100', '23', '174', '224', '1046', '23', '162', '196', '1012']\n",
      "['경상북도', '16', '103', '103', '946', '15', '112', '117', '941', '15', '97', '143', '895', '15', '94', '124', '867', '15', '109', '135', '841', '15', '77', '128', '790', '15', '87', '133', '744', '15', '151', '148', '714', '15', '78', '85', '707', '15', '105', '104', '708']\n",
      "['경상남도', '25', '142', '168', '1217', '25', '119', '155', '1181', '25', '133', '180', '1134', '26', '98', '174', '1056', '25', '108', '154', '1010', '25', '4', '78', '936', '25', '127', '136', '927', '25', '194', '240', '878', '25', '97', '131', '843', '25', '112', '122', '833']\n",
      "['제주특별자치도', '5', '75', '78', '325', '5', '54', '64', '315', '5', '51', '60', '306', '5', '44', '47', '303', '5', '51', '68', '286', '5', '18', '35', '269', '5', '30', '33', '266', '5', '97', '91', '272', '5', '36', '44', '264', '5', '32', '48', '248']\n"
     ]
    }
   ],
   "source": [
    "\n",
    "with open(\"C:\\\\DaTeam\\\\2024-DA-Team\\\\데이터\\아동복지시설수_및_보호아동현황__시도별_20241122115745.csv\", encoding='cp949') as f:\n",
    "    data = csv.reader(f) # 헤더 스킵\n",
    "\n",
    "    data_array = [] \n",
    "\n",
    "    for row in data: # csv 데이터의 한 행을 row에 삽입\n",
    "         data_array.append(row)\n",
    "         print(row)\n",
    "\n",
    "         \n"
   ]
  },
  {
   "cell_type": "markdown",
   "metadata": {},
   "source": [
    "*range 설정 오류 발생"
   ]
  },
  {
   "cell_type": "code",
   "execution_count": null,
   "metadata": {},
   "outputs": [
    {
     "name": "stdout",
     "output_type": "stream",
     "text": [
      "[['행정구역별(1)', '2010', '2010', '2010', '2010', '2011', '2011', '2011', '2011', '2012', '2012', '2012', '2012', '2013', '2013', '2013', '2013', '2014', '2014', '2014', '2014', '2015', '2015', '2015', '2015', '2016', '2016', '2016', '2016', '2017', '2017', '2017', '2017', '2018', '2018', '2018', '2018', '2019', '2019', '2019', '2019'], ['행정구역별(1)', '시설수 (개)', '입소자 (명)', '퇴소자 (명)', '연말현재 수용자 (명)', '시설수 (개)', '입소자 (명)', '퇴소자 (명)', '연말현재 수용자 (명)', '시설수 (개)', '입소자 (명)', '퇴소자 (명)', '연말현재 수용자 (명)', '시설수 (개)', '입소자 (명)', '퇴소자 (명)', '연말현재 수용자 (명)', '시설수 (개)', '입소자 (명)', '퇴소자 (명)', '연말현재 수용자 (명)', '시설수 (개)', '입소자 (명)', '퇴소자 (명)', '연말현재 수용자 (명)', '시설수 (개)', '입소자 (명)', '퇴소자 (명)', '연말현재 수용자 (명)', '시설수 (개)', '입소자 (명)', '퇴소자 (명)', '연말현재 수용자 (명)', '시설수 (개)', '입소자 (명)', '퇴소자 (명)', '연말현재 수용자 (명)', '시설수 (개)', '입소자 (명)', '퇴소자 (명)', '연말현재 수용자 (명)'], ['전국', '280', '6188', '6655', '17119', '280', '5870', '6478', '16523', '281', '5427', '6034', '15916', '281', '4401', '5048', '15239', '278', '4822', '5431', '14630', '281', '4331', '4960', '14001', '281', '4462', '4774', '13689', '280', '5543', '6325', '12789', '279', '3707', '4365', '12193', '281', '3776', '4304', '11665'], ['서울특별시', '45', '2995', '3085', '3153', '47', '2994', '3075', '3072', '47', '2342', '2440', '2990', '47', '1925', '1822', '3063', '47', '2205', '2209', '3059', '49', '1982', '2039', '3002', '49', '1807', '1834', '2975', '49', '1639', '1891', '2737', '49', '1291', '1451', '2577', '49', '1246', '1482', '2341'], ['부산광역시', '22', '325', '394', '1963', '22', '332', '365', '1930', '22', '335', '416', '1849', '22', '152', '315', '1684', '21', '140', '333', '1491', '21', '148', '287', '1352', '21', '104', '214', '1242', '21', '170', '306', '1106', '20', '182', '295', '992', '21', '171', '232', '931'], ['대구광역시', '22', '155', '216', '924', '22', '166', '194', '896', '22', '122', '160', '858', '22', '102', '172', '788', '22', '136', '149', '775', '23', '165', '176', '764', '23', '207', '212', '759', '23', '270', '277', '757', '23', '197', '225', '729', '23', '211', '243', '697'], ['인천광역시', '11', '193', '209', '707', '11', '216', '230', '693', '11', '209', '228', '674', '10', '107', '140', '642', '10', '179', '220', '601', '10', '172', '203', '570', '10', '210', '209', '571', '10', '186', '223', '531', '10', '131', '146', '516', '10', '201', '185', '532'], ['광주광역시', '11', '165', '183', '747', '11', '139', '194', '694', '11', '126', '162', '663', '12', '120', '120', '663', '12', '155', '157', '661', '12', '91', '144', '608', '12', '141', '153', '596', '12', '175', '210', '563', '12', '99', '133', '529', '12', '92', '114', '507'], ['대전광역시', '13', '351', '360', '653', '14', '377', '424', '618', '14', '403', '421', '600', '14', '379', '385', '594', '14', '309', '329', '574', '14', '302', '352', '524', '14', '239', '236', '527', '14', '363', '375', '512', '14', '282', '303', '493', '14', '272', '296', '469'], ['울산광역시', '1', '22', '18', '122', '1', '14', '31', '105', '1', '20', '21', '104', '1', '24', '19', '109', '1', '36', '28', '117', '1', '30', '20', '127', '1', '40', '46', '121', '1', '69', '56', '127', '1', '17', '29', '115', '1', '29', '27', '117'], ['세종특별자치시', '-', '-', '-', '-', '-', '-', '-', '-', '1', '4', '9', '47', '1', '3', '3', '47', '1', '5', '10', '42', '1', '9', '9', '42', '1', '6', '11', '37', '1', '5', '18', '27', '1', '6', '6', '27', '1', '9', '11', '25'], ['경기도', '32', '904', '889', '2030', '30', '603', '747', '1886', '31', '840', '885', '1836', '30', '678', '839', '1671', '29', '689', '773', '1587', '29', '619', '701', '1505', '29', '624', '672', '1457', '28', '1021', '1178', '1252', '28', '550', '655', '1212', '28', '605', '641', '1176'], ['강원도', '10', '83', '75', '525', '10', '47', '110', '462', '10', '45', '83', '424', '10', '61', '80', '405', '10', '69', '114', '360', '10', '121', '127', '354', '10', '138', '125', '367', '10', '163', '203', '334', '10', '104', '125', '312', '11', '104', '98', '318'], ['충청북도', '12', '133', '164', '740', '13', '151', '160', '731', '13', '119', '156', '694', '13', '136', '187', '647', '13', '179', '202', '624', '13', '143', '147', '620', '13', '120', '163', '577', '13', '226', '231', '549', '13', '114', '138', '528', '13', '140', '150', '518'], ['충청남도', '15', '81', '136', '794', '15', '98', '107', '785', '14', '94', '117', '702', '14', '91', '121', '673', '14', '115', '165', '623', '14', '122', '109', '636', '14', '129', '130', '635', '14', '166', '145', '634', '14', '98', '111', '619', '14', '85', '114', '590'], ['전라북도', '16', '154', '193', '909', '16', '155', '189', '875', '16', '193', '213', '855', '16', '193', '242', '806', '16', '159', '180', '785', '16', '166', '215', '736', '16', '247', '229', '754', '16', '345', '398', '696', '16', '251', '264', '684', '16', '200', '241', '643'], ['전라남도', '24', '307', '384', '1364', '23', '293', '316', '1339', '23', '294', '340', '1285', '23', '194', '258', '1221', '23', '178', '205', '1194', '23', '162', '190', '1166', '23', '206', '238', '1134', '23', '303', '335', '1100', '23', '174', '224', '1046', '23', '162', '196', '1012'], ['경상북도', '16', '103', '103', '946', '15', '112', '117', '941', '15', '97', '143', '895', '15', '94', '124', '867', '15', '109', '135', '841', '15', '77', '128', '790', '15', '87', '133', '744', '15', '151', '148', '714', '15', '78', '85', '707', '15', '105', '104', '708'], ['경상남도', '25', '142', '168', '1217', '25', '119', '155', '1181', '25', '133', '180', '1134', '26', '98', '174', '1056', '25', '108', '154', '1010', '25', '4', '78', '936', '25', '127', '136', '927', '25', '194', '240', '878', '25', '97', '131', '843', '25', '112', '122', '833'], ['제주특별자치도', '5', '75', '78', '325', '5', '54', '64', '315', '5', '51', '60', '306', '5', '44', '47', '303', '5', '51', '68', '286', '5', '18', '35', '269', '5', '30', '33', '266', '5', '97', '91', '272', '5', '36', '44', '264', '5', '32', '48', '248']]\n",
      "[[47, 22, 22, 11, 11, 14, 1, 1, 31, 10, 13, 14, 16, 23, 15, 25, 5], [47, 22, 22, 10, 12, 14, 1, 1, 30, 10, 13, 14, 16, 23, 15, 26, 5], [47, 21, 22, 10, 12, 14, 1, 1, 29, 10, 13, 14, 16, 23, 15, 25, 5], [49, 21, 23, 10, 12, 14, 1, 1, 29, 10, 13, 14, 16, 23, 15, 25, 5], [49, 21, 23, 10, 12, 14, 1, 1, 29, 10, 13, 14, 16, 23, 15, 25, 5], [49, 21, 23, 10, 12, 14, 1, 1, 28, 10, 13, 14, 16, 23, 15, 25, 5], [49, 20, 23, 10, 12, 14, 1, 1, 28, 10, 13, 14, 16, 23, 15, 25, 5], [49, 21, 23, 10, 12, 14, 1, 1, 28, 11, 13, 14, 16, 23, 15, 25, 5]]\n"
     ]
    },
    {
     "data": {
      "image/png": "[encoded data removed]",
      "text/plain": [
       "<Figure size 640x480 with 1 Axes>"
      ]
     },
     "metadata": {},
     "output_type": "display_data"
    }
   ],
   "source": [
    "# 기틀은 거의 완성되었으나 2010년과 2019년 데이터가 반영되지않는 오류(첫값과 끝값) (아마 range 오류인듯함)\n",
    "\n",
    "data_array = [] # 전체 데이터를 저장할 배열\n",
    "facilitycount=[] # 시설 수를 연도별로 저장할 배열 ex) 0행은 2010년, 1행은 2011년..\n",
    "years = [2010 + i for i in range(9)] #xlabel 연도설정용도\n",
    "\n",
    "i=0 # for 문에 사용할 i 값 초기화\n",
    "\n",
    "with open(\"C:\\\\DaTeam\\\\2024-DA-Team\\\\데이터\\아동복지시설수_및_보호아동현황__시도별_20241122115745.csv\", encoding='cp949') as f: # 경로지정\n",
    "    data = csv.reader(f) \n",
    "\n",
    "    for row in data: # csv 데이터의 한 행을 row에 삽입\n",
    "        data_array.append(row) # 행으로 받은 row를 data_array에 집어넣음으로써 2차원 배열 data_array생성\n",
    "         \n",
    "    for i in range(1, 41, 4): # '시설수'열 이 존재하는 1열, 5열, 9열....을 지정하기 위해 range사용\n",
    "        inner = [] \n",
    "        for j in range(20): # 행 개수\n",
    "            if data_array[j][i] != '-':  # 값이 비어 있지 않은 경우\n",
    "                try:\n",
    "                    value = int(data_array[j][i])  # 정수로 변환\n",
    "                    if value < 100:  # 지역 별 시설 수 데이터는 100이 넘지 않음을 확인 후 조건 생성\n",
    "                        inner.append(value) # inner에 데이터 저장      \n",
    "                except ValueError:\n",
    "                    pass  # 변환 실패 시 무시       \n",
    "        if len(inner)== 16 | 17:\n",
    "            facilitycount.append(inner) # 세종특별자치시의 경우 2010년 시설이 없다가 후에 추가되었기에 inner의 개수가 16인 경우도 가능케함.\n",
    "\n",
    "   \n",
    "                \n",
    "# 박스플롯 그리기\n",
    "print(data_array)\n",
    "print(facilitycount)\n",
    "plt.boxplot(facilitycount)  # 지역별 데이터\n",
    "plt.title(\"국내 아동 복지 시설 수 현황\")\n",
    "plt.xticks(ticks=range(1, len(years) + 1), labels=years)\n",
    "plt.ylabel(\"시설 수\")\n",
    "plt.tight_layout()\n",
    "plt.show()"
   ]
  },
  {
   "cell_type": "markdown",
   "metadata": {},
   "source": [
    " ● 서울특별시의 경우 이상치로 인식되는 결과 발생 <br/>● 국내 시설 수의 중앙값은 10개 초반에 분포함을 알 수 있음."
   ]
  },
  {
   "cell_type": "markdown",
   "metadata": {},
   "source": [
    "*노인복지시설 데이터도 추가할예정"
   ]
  },
  {
   "cell_type": "code",
   "execution_count": null,
   "metadata": {},
   "outputs": [],
   "source": []
  }
 ],
 "metadata": {
  "kernelspec": {
   "display_name": "base",
   "language": "python",
   "name": "python3"
  },
  "language_info": {
   "codemirror_mode": {
    "name": "ipython",
    "version": 3
   },
   "file_extension": ".py",
   "mimetype": "text/x-python",
   "name": "python",
   "nbconvert_exporter": "python",
   "pygments_lexer": "ipython3",
   "version": "3.11.7"
  }
 },
 "nbformat": 4,
 "nbformat_minor": 2
}
